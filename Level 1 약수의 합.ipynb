{
 "cells": [
  {
   "cell_type": "markdown",
   "id": "822609c6",
   "metadata": {},
   "source": [
    "### 문제 설명\n",
    "정수 n을 입력받아 n의 약수를 모두 더한 값을 리턴하는 함수, solution을 완성해주세요.  \n",
    "  \n",
    "### 제한 사항\n",
    "n은 0 이상 3000이하인 정수입니다.  \n",
    "### 입출력 예\n",
    "|n|\treturn|\n",
    "|---|---|\n",
    "|12\t|28|\n",
    "|5|\t6|\n",
    "  \n",
    "#### 입출력 예 설명\n",
    "- 입출력 예 #1  \n",
    "    12의 약수는 1, 2, 3, 4, 6, 12입니다. 이를 모두 더하면 28입니다.\n",
    "\n",
    "- 입출력 예 #2  \n",
    "    5의 약수는 1, 5입니다. 이를 모두 더하면 6입니다."
   ]
  },
  {
   "cell_type": "code",
   "execution_count": 1,
   "id": "aebac7fb",
   "metadata": {},
   "outputs": [],
   "source": [
    "def solution(n):\n",
    "    answer = 0\n",
    "    for i in range(1,n+1):\n",
    "        if n % i ==0 :\n",
    "            answer += i\n",
    "    return answer"
   ]
  },
  {
   "cell_type": "code",
   "execution_count": 2,
   "id": "6a250f20",
   "metadata": {},
   "outputs": [
    {
     "data": {
      "text/plain": [
       "28"
      ]
     },
     "execution_count": 2,
     "metadata": {},
     "output_type": "execute_result"
    }
   ],
   "source": [
    "solution(12)"
   ]
  },
  {
   "cell_type": "code",
   "execution_count": 3,
   "id": "a1a222d2",
   "metadata": {},
   "outputs": [],
   "source": [
    "def solution(n):\n",
    "    answer = []\n",
    "    for i in range(1,n+1):\n",
    "        if n % i ==0 :\n",
    "            answer.append(i)\n",
    "    return answer"
   ]
  },
  {
   "cell_type": "code",
   "execution_count": 4,
   "id": "7136a48c",
   "metadata": {},
   "outputs": [
    {
     "data": {
      "text/plain": [
       "[1, 2, 3, 4, 6, 12]"
      ]
     },
     "execution_count": 4,
     "metadata": {},
     "output_type": "execute_result"
    }
   ],
   "source": [
    "solution(12)"
   ]
  },
  {
   "cell_type": "code",
   "execution_count": null,
   "id": "d3a86138",
   "metadata": {},
   "outputs": [],
   "source": []
  },
  {
   "cell_type": "code",
   "execution_count": 9,
   "id": "de861131",
   "metadata": {},
   "outputs": [],
   "source": [
    "def sumDivisor(num):\n",
    "    \n",
    "    # 약수는 자신의 절반보다 큰 값이 있을 수 없기 때문에 \n",
    "    # num / 2 의 수들만 검사하면 성능 향상\n",
    "    \n",
    "    return num + sum([i for i in range(1, (num // 2) + 1) if num % i == 0])"
   ]
  },
  {
   "cell_type": "code",
   "execution_count": 10,
   "id": "7f66d599",
   "metadata": {},
   "outputs": [
    {
     "name": "stdout",
     "output_type": "stream",
     "text": [
      "28\n",
      "14\n",
      "24\n"
     ]
    }
   ],
   "source": [
    "print(sumDivisor(12))\n",
    "print(sumDivisor(13))\n",
    "print(sumDivisor(14))"
   ]
  },
  {
   "cell_type": "code",
   "execution_count": 7,
   "id": "0bfc2210",
   "metadata": {},
   "outputs": [],
   "source": [
    "def sumDivisor(num):\n",
    "    \n",
    "    # 약수는 자신의 절반보다 큰 값이 있을 수 없기 때문에 \n",
    "    # num / 2 의 수들만 검사하면 성능 향상\n",
    "    \n",
    "    return sum([i for i in range(1, (num // 2) + 1) if num % i == 0])"
   ]
  },
  {
   "cell_type": "code",
   "execution_count": 8,
   "id": "9c6a4ec4",
   "metadata": {},
   "outputs": [
    {
     "data": {
      "text/plain": [
       "16"
      ]
     },
     "execution_count": 8,
     "metadata": {},
     "output_type": "execute_result"
    }
   ],
   "source": [
    "sumDivisor(12)"
   ]
  },
  {
   "cell_type": "code",
   "execution_count": null,
   "id": "5c278e65",
   "metadata": {},
   "outputs": [],
   "source": []
  }
 ],
 "metadata": {
  "kernelspec": {
   "display_name": "Python 3",
   "language": "python",
   "name": "python3"
  },
  "language_info": {
   "codemirror_mode": {
    "name": "ipython",
    "version": 3
   },
   "file_extension": ".py",
   "mimetype": "text/x-python",
   "name": "python",
   "nbconvert_exporter": "python",
   "pygments_lexer": "ipython3",
   "version": "3.8.8"
  }
 },
 "nbformat": 4,
 "nbformat_minor": 5
}
