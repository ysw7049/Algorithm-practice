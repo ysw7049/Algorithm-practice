{
 "cells": [
  {
   "cell_type": "markdown",
   "id": "050e601b",
   "metadata": {},
   "source": [
    "### 문제 설명\n",
    "정수 num이 짝수일 경우 \"Even\"을 반환하고 홀수인 경우 \"Odd\"를 반환하는 함수, solution을 완성해주세요.\n",
    "  \n",
    "### 제한 조건\n",
    "num은 int 범위의 정수입니다.  \n",
    "0은 짝수입니다.  \n",
    "\n",
    "### 입출력 예\n",
    "|num|\treturn|\n",
    "|---|---|\n",
    "|3\t|\"Odd\"|\n",
    "|4|\t\"Even\"|"
   ]
  },
  {
   "cell_type": "code",
   "execution_count": 4,
   "id": "f3b4f476",
   "metadata": {},
   "outputs": [],
   "source": [
    "def solution(num):\n",
    "    \n",
    "    if num % 2:\n",
    "        return \"Odd\"\n",
    "    else:\n",
    "        return \"Even\"\n"
   ]
  },
  {
   "cell_type": "code",
   "execution_count": 5,
   "id": "abac1d42",
   "metadata": {},
   "outputs": [
    {
     "name": "stdout",
     "output_type": "stream",
     "text": [
      "Even\n",
      "Odd\n"
     ]
    }
   ],
   "source": [
    "print(solution(4))\n",
    "print(solution(3))"
   ]
  },
  {
   "cell_type": "code",
   "execution_count": 8,
   "id": "a2749fec",
   "metadata": {},
   "outputs": [],
   "source": [
    "def solution(num):  \n",
    "    if num % 2 == 0:\n",
    "        return \"Odd\"\n",
    "    # else: # 또는 elif num % 2 == 1:\n",
    "    elif num % 2 == 1:\n",
    "        return \"Even\""
   ]
  },
  {
   "cell_type": "code",
   "execution_count": 9,
   "id": "a2d43049",
   "metadata": {},
   "outputs": [
    {
     "name": "stdout",
     "output_type": "stream",
     "text": [
      "Odd\n",
      "Even\n"
     ]
    }
   ],
   "source": [
    "print(solution(4))\n",
    "print(solution(3))"
   ]
  },
  {
   "cell_type": "code",
   "execution_count": null,
   "id": "e7aab92b",
   "metadata": {},
   "outputs": [],
   "source": []
  }
 ],
 "metadata": {
  "kernelspec": {
   "display_name": "Python 3",
   "language": "python",
   "name": "python3"
  },
  "language_info": {
   "codemirror_mode": {
    "name": "ipython",
    "version": 3
   },
   "file_extension": ".py",
   "mimetype": "text/x-python",
   "name": "python",
   "nbconvert_exporter": "python",
   "pygments_lexer": "ipython3",
   "version": "3.8.8"
  }
 },
 "nbformat": 4,
 "nbformat_minor": 5
}
