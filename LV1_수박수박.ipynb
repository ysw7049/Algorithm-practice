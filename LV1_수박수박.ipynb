{
 "cells": [
  {
   "cell_type": "markdown",
   "id": "49de186d",
   "metadata": {},
   "source": [
    "### 문제 설명\n",
    "길이가 n이고, \"수박수박수박수....\"와 같은 패턴을 유지하는 문자열을 리턴하는 함수, solution을 완성하세요. 예를들어 n이 4이면 \"수박수박\"을 리턴하고 3이라면 \"수박수\"를 리턴하면 됩니다.\n",
    "\n",
    "### 제한 조건\n",
    "n은 길이 10,000이하인 자연수입니다."
   ]
  },
  {
   "cell_type": "code",
   "execution_count": 38,
   "id": "0e4c7f40",
   "metadata": {},
   "outputs": [],
   "source": [
    "n=3\n",
    "# return = \"수박수\""
   ]
  },
  {
   "cell_type": "code",
   "execution_count": 48,
   "id": "ebe57afb",
   "metadata": {},
   "outputs": [],
   "source": [
    "def solution(n):\n",
    "    answer = ''\n",
    "    while n > 0:\n",
    "        answer+=\"수박\"\n",
    "        n -= 2\n",
    "    if n % 2 != 0:\n",
    "        answer=answer.rstrip(\"박\")\n",
    "\n",
    "    return answer"
   ]
  },
  {
   "cell_type": "code",
   "execution_count": 49,
   "id": "5b494cff",
   "metadata": {},
   "outputs": [
    {
     "data": {
      "text/plain": [
       "'수박수'"
      ]
     },
     "execution_count": 49,
     "metadata": {},
     "output_type": "execute_result"
    }
   ],
   "source": [
    "solution(3)"
   ]
  },
  {
   "cell_type": "code",
   "execution_count": 45,
   "id": "17afeeb1",
   "metadata": {},
   "outputs": [],
   "source": [
    "a = \"수박수박수박\""
   ]
  },
  {
   "cell_type": "code",
   "execution_count": 46,
   "id": "b37f4a4c",
   "metadata": {},
   "outputs": [
    {
     "data": {
      "text/plain": [
       "'수박수박수'"
      ]
     },
     "execution_count": 46,
     "metadata": {},
     "output_type": "execute_result"
    }
   ],
   "source": [
    "a.rstrip(\"박\")"
   ]
  },
  {
   "cell_type": "markdown",
   "id": "0ecf70a6",
   "metadata": {},
   "source": [
    "## 다른 풀이"
   ]
  },
  {
   "cell_type": "code",
   "execution_count": 50,
   "id": "c7fc541f",
   "metadata": {},
   "outputs": [],
   "source": [
    "def water_melon(n):\n",
    "    a = \"수박\" * n\n",
    "    return a[:n]"
   ]
  },
  {
   "cell_type": "code",
   "execution_count": 54,
   "id": "a4503826",
   "metadata": {},
   "outputs": [],
   "source": [
    "def water_melon(n):\n",
    "    return \"수박\"*(n//2) + \"수\"*(n%2)"
   ]
  },
  {
   "cell_type": "code",
   "execution_count": 56,
   "id": "14d102e8",
   "metadata": {},
   "outputs": [
    {
     "data": {
      "text/plain": [
       "'수박수박'"
      ]
     },
     "execution_count": 56,
     "metadata": {},
     "output_type": "execute_result"
    }
   ],
   "source": [
    "water_melon(4)"
   ]
  },
  {
   "cell_type": "code",
   "execution_count": null,
   "id": "fa0ed8f5",
   "metadata": {},
   "outputs": [],
   "source": []
  }
 ],
 "metadata": {
  "kernelspec": {
   "display_name": "Python 3",
   "language": "python",
   "name": "python3"
  },
  "language_info": {
   "codemirror_mode": {
    "name": "ipython",
    "version": 3
   },
   "file_extension": ".py",
   "mimetype": "text/x-python",
   "name": "python",
   "nbconvert_exporter": "python",
   "pygments_lexer": "ipython3",
   "version": "3.8.8"
  }
 },
 "nbformat": 4,
 "nbformat_minor": 5
}
