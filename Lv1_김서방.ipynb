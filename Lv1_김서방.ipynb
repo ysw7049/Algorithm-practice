{
 "cells": [
  {
   "cell_type": "code",
   "execution_count": 7,
   "id": "412b45ee",
   "metadata": {},
   "outputs": [],
   "source": [
    "seoul=[\"Jane\", \"Kim\"]"
   ]
  },
  {
   "cell_type": "code",
   "execution_count": 11,
   "id": "5eb07cf9",
   "metadata": {},
   "outputs": [
    {
     "data": {
      "text/plain": [
       "1"
      ]
     },
     "execution_count": 11,
     "metadata": {},
     "output_type": "execute_result"
    }
   ],
   "source": [
    "seoul.index(\"Kim\")"
   ]
  },
  {
   "cell_type": "code",
   "execution_count": 12,
   "id": "afc476f4",
   "metadata": {},
   "outputs": [],
   "source": [
    "def solution(seoul):\n",
    "    for i in range(len(seoul)):\n",
    "        if seoul[i] == \"Kim\":\n",
    "            a=i\n",
    "    answer=f'김서방은 {a}에 있다'\n",
    "    return answer"
   ]
  },
  {
   "cell_type": "code",
   "execution_count": null,
   "id": "f9ce20f2",
   "metadata": {},
   "outputs": [],
   "source": []
  },
  {
   "cell_type": "markdown",
   "id": "73432235",
   "metadata": {},
   "source": [
    "### 1등 답"
   ]
  },
  {
   "cell_type": "code",
   "execution_count": 13,
   "id": "a00e7b03",
   "metadata": {},
   "outputs": [],
   "source": [
    "def solution(seoul):\n",
    "    answer = ''\n",
    "    return ('김서방은 %d에 있다' %seoul.index('Kim'))"
   ]
  },
  {
   "cell_type": "code",
   "execution_count": 14,
   "id": "3059a359",
   "metadata": {},
   "outputs": [],
   "source": [
    "def solution(seoul):\n",
    "    count = 0\n",
    "    for word in seoul:\n",
    "        if word != \"Kim\":\n",
    "            count = count + 1\n",
    "        elif word == \"Kim\":\n",
    "            break\n",
    "    x = count\n",
    "    answer = \"김서방은 \" + str(x) + \"에 있다\"\n",
    "    return answer"
   ]
  },
  {
   "cell_type": "code",
   "execution_count": null,
   "id": "c1aba6c0",
   "metadata": {},
   "outputs": [],
   "source": []
  },
  {
   "cell_type": "code",
   "execution_count": null,
   "id": "6af66e29",
   "metadata": {},
   "outputs": [],
   "source": []
  }
 ],
 "metadata": {
  "kernelspec": {
   "display_name": "Python 3",
   "language": "python",
   "name": "python3"
  },
  "language_info": {
   "codemirror_mode": {
    "name": "ipython",
    "version": 3
   },
   "file_extension": ".py",
   "mimetype": "text/x-python",
   "name": "python",
   "nbconvert_exporter": "python",
   "pygments_lexer": "ipython3",
   "version": "3.8.8"
  }
 },
 "nbformat": 4,
 "nbformat_minor": 5
}
