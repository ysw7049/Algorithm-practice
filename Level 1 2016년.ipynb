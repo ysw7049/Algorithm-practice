{
 "cells": [
  {
   "cell_type": "markdown",
   "id": "b269cac5",
   "metadata": {},
   "source": [
    "### 문제 설명\n",
    "2016년 1월 1일은 금요일입니다.  \n",
    "2016년 a월 b일은 무슨 요일일까요?  \n",
    "두 수 a ,b를 입력받아 2016년 a월 b일이 무슨 요일인지 리턴하는 함수, solution을 완성하세요.  \n",
    "요일의 이름은 일요일부터 토요일까지 각각 SUN,MON,TUE,WED,THU,FRI,SAT입니다.  \n",
    "예를 들어 a=5, b=24라면 5월 24일은 화요일이므로 문자열 \"TUE\"를 반환하세요.  \n",
    "  \n",
    "### 제한 조건\n",
    "2016년은 윤년입니다.  \n",
    "2016년 a월 b일은 실제로 있는 날입니다. (13월 26일이나 2월 45일같은 날짜는 주어지지 않습니다)  \n",
    "### 입출력 예\n",
    "|a|\tb|\tresult|\n",
    "|---|---|---|\n",
    "|5|\t24|\t\"TUE\"|"
   ]
  },
  {
   "cell_type": "code",
   "execution_count": 2,
   "id": "e362eeac",
   "metadata": {},
   "outputs": [],
   "source": [
    "a=5\n",
    "b=24\n",
    "# result \"TUE\"\n",
    "# 2016년 1월 1일 = 금요일\n",
    "# days[5]"
   ]
  },
  {
   "cell_type": "code",
   "execution_count": 1,
   "id": "3a287246",
   "metadata": {},
   "outputs": [],
   "source": [
    "def solution(a, b):   \n",
    "    months =[31,29,31,30,31,30,31,31,30,31,30,31]\n",
    "    days=[\"SUN\",\"MON\",\"TUE\",\"WED\",\"THU\",\"FRI\",\"SAT\"]\n",
    "    sumMonths=0\n",
    "    if a>1:\n",
    "        sumMonths += sum(months[:a-1]) # 앞의 월들의 일들의 합\n",
    "    sumMonths += b+4 # + 이번달의 일수, 1월 1일은 금요일\n",
    "    return days[sumMonths % 7]"
   ]
  },
  {
   "cell_type": "code",
   "execution_count": 3,
   "id": "6ee119be",
   "metadata": {},
   "outputs": [
    {
     "data": {
      "text/plain": [
       "'TUE'"
      ]
     },
     "execution_count": 3,
     "metadata": {},
     "output_type": "execute_result"
    }
   ],
   "source": [
    "solution(a,b)"
   ]
  },
  {
   "cell_type": "code",
   "execution_count": null,
   "id": "ab4982e3",
   "metadata": {},
   "outputs": [],
   "source": []
  }
 ],
 "metadata": {
  "kernelspec": {
   "display_name": "Python 3",
   "language": "python",
   "name": "python3"
  },
  "language_info": {
   "codemirror_mode": {
    "name": "ipython",
    "version": 3
   },
   "file_extension": ".py",
   "mimetype": "text/x-python",
   "name": "python",
   "nbconvert_exporter": "python",
   "pygments_lexer": "ipython3",
   "version": "3.8.8"
  }
 },
 "nbformat": 4,
 "nbformat_minor": 5
}
