{
 "cells": [
  {
   "cell_type": "markdown",
   "id": "c94abe73",
   "metadata": {},
   "source": [
    "### 문제 설명\n",
    "단어 s의 가운데 글자를 반환하는 함수, solution을 만들어 보세요. 단어의 길이가 짝수라면 가운데 두글자를 반환하면 됩니다.\n",
    "  \n",
    "### 재한사항\n",
    "s는 길이가 1 이상, 100이하인 스트링입니다.\n",
    "  \n",
    "### 입출력 예\n",
    "|s|\treturn|\n",
    "|---|---|\n",
    "|\"abcde\"\t|\"c\"|\n",
    "|\"qwer\"|\t\"we\"|"
   ]
  },
  {
   "cell_type": "code",
   "execution_count": 1,
   "id": "ac5f2465",
   "metadata": {},
   "outputs": [],
   "source": [
    "def solution(s):\n",
    "    \n",
    "    if len(s)%2==0: #글자 수 짝수\n",
    "        a=s[(len(s)//2)-1]+s[len(s)//2]\n",
    "         \n",
    "    else: \n",
    "        a=s[len(s)//2]\n",
    "    return a"
   ]
  },
  {
   "cell_type": "markdown",
   "id": "d4b687f9",
   "metadata": {},
   "source": [
    "# 다른 풀이"
   ]
  },
  {
   "cell_type": "code",
   "execution_count": 2,
   "id": "36b07719",
   "metadata": {},
   "outputs": [
    {
     "name": "stdout",
     "output_type": "stream",
     "text": [
      "w\n"
     ]
    }
   ],
   "source": [
    "def string_middle(str):\n",
    "    # 함수를 완성하세요\n",
    "\n",
    "    return str[(len(str)-1)//2:len(str)//2+1]\n",
    "\n",
    "# 아래는 테스트로 출력해 보기 위한 코드입니다.\n",
    "print(string_middle(\"power\"))\n"
   ]
  },
  {
   "cell_type": "code",
   "execution_count": 8,
   "id": "f7bd249c",
   "metadata": {},
   "outputs": [
    {
     "name": "stdout",
     "output_type": "stream",
     "text": [
      "w\n"
     ]
    }
   ],
   "source": [
    "def string_middle(str):\n",
    "    a = len(str)\n",
    "    if a % 2 == 0 :\n",
    "        a = (a-2) / 2\n",
    "    else :\n",
    "        a = (a-1) / 2\n",
    "    return str[int(a) : -int(a)]\n",
    "# 아래는 테스트로 출력해 보기 위한 코드입니다.\n",
    "print(string_middle(\"power\"))"
   ]
  },
  {
   "cell_type": "code",
   "execution_count": 7,
   "id": "52cd5764",
   "metadata": {},
   "outputs": [
    {
     "name": "stdout",
     "output_type": "stream",
     "text": [
      "w\n"
     ]
    }
   ],
   "source": [
    "def string_middle(str):\n",
    "    a = len(str)\n",
    "    if a % 2 == 0 :\n",
    "        a = (a-2) // 2\n",
    "    else :\n",
    "        a = (a-1) // 2\n",
    "    \n",
    "    return str[a : -a]\n",
    "# 아래는 테스트로 출력해 보기 위한 코드입니다.\n",
    "print(string_middle(\"power\"))"
   ]
  },
  {
   "cell_type": "code",
   "execution_count": null,
   "id": "0fc8de29",
   "metadata": {},
   "outputs": [],
   "source": []
  }
 ],
 "metadata": {
  "kernelspec": {
   "display_name": "Python 3",
   "language": "python",
   "name": "python3"
  },
  "language_info": {
   "codemirror_mode": {
    "name": "ipython",
    "version": 3
   },
   "file_extension": ".py",
   "mimetype": "text/x-python",
   "name": "python",
   "nbconvert_exporter": "python",
   "pygments_lexer": "ipython3",
   "version": "3.8.8"
  }
 },
 "nbformat": 4,
 "nbformat_minor": 5
}
