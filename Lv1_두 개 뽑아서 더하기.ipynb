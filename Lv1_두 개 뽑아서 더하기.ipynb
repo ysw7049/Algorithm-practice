{
 "cells": [
  {
   "cell_type": "markdown",
   "id": "4187601a",
   "metadata": {},
   "source": [
    "### 문제 설명\n",
    "정수 배열 numbers가 주어집니다.  \n",
    "numbers에서 서로 다른 인덱스에 있는 두 개의 수를 뽑아 더해서  \n",
    " 만들 수 있는 모든 수를 배열에 오름차순으로 담아 return 하도록 solution 함수를 완성해주세요.\n",
    "\n",
    "### 제한사항\n",
    "numbers의 길이는 2 이상 100 이하입니다.  \n",
    "numbers의 모든 수는 0 이상 100 이하입니다."
   ]
  },
  {
   "cell_type": "code",
   "execution_count": 8,
   "id": "4c978958",
   "metadata": {},
   "outputs": [],
   "source": [
    "# 입출력 예\n",
    "num1=[2,1,3,4,1]\n",
    "result1=[2,3,4,5,6,7]"
   ]
  },
  {
   "cell_type": "code",
   "execution_count": 7,
   "id": "e874cb0e",
   "metadata": {},
   "outputs": [],
   "source": [
    "def solution(numbers):\n",
    "    a=[] \n",
    "    for i in range(len(numbers)):\n",
    "        for j in range(i+1,len(numbers)):\n",
    "            a.append(numbers[i]+numbers[j])\n",
    "    b=sorted(set(a))\n",
    "    return b"
   ]
  },
  {
   "cell_type": "code",
   "execution_count": 6,
   "id": "df54f4aa",
   "metadata": {
    "scrolled": true
   },
   "outputs": [
    {
     "data": {
      "text/plain": [
       "[2, 3, 4, 5, 6, 7]"
      ]
     },
     "execution_count": 6,
     "metadata": {},
     "output_type": "execute_result"
    }
   ],
   "source": [
    "solution(num1)"
   ]
  },
  {
   "cell_type": "code",
   "execution_count": null,
   "id": "248c27cc",
   "metadata": {},
   "outputs": [],
   "source": []
  },
  {
   "cell_type": "markdown",
   "id": "a6c176f0",
   "metadata": {},
   "source": [
    "## 다른 풀이"
   ]
  },
  {
   "cell_type": "code",
   "execution_count": null,
   "id": "5c7b8e28",
   "metadata": {},
   "outputs": [],
   "source": [
    "def solution(numbers):\n",
    "    answer = []\n",
    "    for i in range(len(numbers)):\n",
    "        for j in range(i+1, len(numbers)):\n",
    "            answer.append(numbers[i] + numbers[j])\n",
    "    return sorted(list(set(answer)))"
   ]
  },
  {
   "cell_type": "code",
   "execution_count": null,
   "id": "ed952984",
   "metadata": {},
   "outputs": [],
   "source": []
  },
  {
   "cell_type": "code",
   "execution_count": null,
   "id": "f12ccf66",
   "metadata": {},
   "outputs": [],
   "source": []
  },
  {
   "cell_type": "code",
   "execution_count": null,
   "id": "7be5f0ea",
   "metadata": {},
   "outputs": [],
   "source": []
  }
 ],
 "metadata": {
  "kernelspec": {
   "display_name": "Python 3",
   "language": "python",
   "name": "python3"
  },
  "language_info": {
   "codemirror_mode": {
    "name": "ipython",
    "version": 3
   },
   "file_extension": ".py",
   "mimetype": "text/x-python",
   "name": "python",
   "nbconvert_exporter": "python",
   "pygments_lexer": "ipython3",
   "version": "3.8.8"
  }
 },
 "nbformat": 4,
 "nbformat_minor": 5
}
